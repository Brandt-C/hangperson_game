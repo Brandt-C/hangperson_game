{
 "cells": [
  {
   "cell_type": "markdown",
   "metadata": {},
   "source": [
    "**Create a Letter Guessing Game**\n",
    "\n",
    "Create a program that allows a user 7 chances to guess the correct word. If they do not guess the word after 7 tries, the player loses and the program will print the correct word. Otherwise, the play wins and the game.\n",
    "\n",
    "**How to build the program**\n",
    "* When you start the game, you will need to select a random word from a list of at least 10 words (You have full control over which words you want to use for you program). This will be your secret word. Your secret word will be represented in the program as a group of underscores. For as long as the word is, you should also have that many underscores. \n",
    "\n",
    "* Once the word is selected, your game will commence. Perform a Google search to figure out how to select a random word from a list using Python.<br>\n",
    "**Hint** There's package you can import into your application that does this for you.\n",
    "\n",
    "* The end user will have a total of 7 chances to guess the correct letter from the secret word. If the end user makes 7 incorrect guesses, the game will end.\n",
    "\n",
    "* As you guess the correct letters, the letters you have guess will then take place of the underscores that letter represents. <br>\n",
    "**For Example**: If your secret word is 'watermelon' and  so far you have guessed the letters 'a' and 'e', the word you're trying to guess will appear as follows: _ a _ e _ _ e _ _ _.<br>\n",
    "**Keep in mind** that if you guess a letter that appears more than once in your secret word, make sure that the letter is populated anywhere that letter would be."
   ]
  },
  {
   "cell_type": "code",
   "execution_count": 8,
   "metadata": {},
   "outputs": [
    {
     "name": "stdout",
     "output_type": "stream",
     "text": [
      "Better luck next time!\n",
      "here's the word- ['o', 'u', 't', 'l', 'i', 'n', 'e']\n"
     ]
    }
   ],
   "source": [
    "import random\n",
    "from IPython.display import clear_output\n",
    "\n",
    "\n",
    "w_list = [\n",
    "    \"balance\", \"gutter\", \"theater\", \"temple\", \"attract\", \"architect\", \"national\", \"garbage\", \"throw\",\n",
    "    \"eyebrow\", \"venture\", \"unaware\", \"medicine\", \"outline\", \"spring\", \"dragon\", \"execution\", \"traction\"\n",
    "    ]\n",
    "\n",
    "wel = \"\\t\\tWelcome to Hangperson!\\nThis should all be pretty self-explanatory but. . . \\nAll lowercase.\"\n",
    "wel += \"\\n\\tWanna play?  'y' to continue, any other key will exit.\\t\"\n",
    "turn = 20\n",
    "menu = input(wel)\n",
    "guess_list = []\n",
    "\n",
    "while True:\n",
    "    if menu == \"y\":\n",
    "        word = random.choice(w_list)\n",
    "        hid_let = []\n",
    "        sec_let = list(word)\n",
    "        for l in range(len(sec_let)):\n",
    "            hid_let.append(\"_ \")\n",
    "        \n",
    "        while turn > 0:\n",
    "            g = input(\"What letter you wanna try?\\t\")\n",
    "            guess_list.append(g)\n",
    "            for i in range(len(sec_let)):\n",
    "                if g == sec_let[i]:\n",
    "                    hid_let[i] = g\n",
    "                else:\n",
    "                    pass\n",
    "            if \"_ \" not in hid_let:\n",
    "                clear_output()\n",
    "                print(\"You did it!\")\n",
    "                turn = 0\n",
    "            clear_output()\n",
    "            print(hid_let)\n",
    "            print(f'Previous guesses: \\t{guess_list}')\n",
    "            print(f'Turns left: {turn}\\n{hid_let}')\n",
    "            turn -= 1 \n",
    "        if \"_ \" not in hid_let:\n",
    "            clear_output()\n",
    "            print(f'Well done!\\nWINNER!\\n You got\\t {sec_let}')\n",
    "            break\n",
    "        elif \"_ \" in hid_let:\n",
    "            clear_output()\n",
    "            print(\"Better luck next time!\")\n",
    "            print(f\"here's the word- {sec_let}\")\n",
    "            break\n",
    "    else:\n",
    "         False"
   ]
  },
  {
   "cell_type": "code",
   "execution_count": null,
   "metadata": {},
   "outputs": [],
   "source": []
  }
 ],
 "metadata": {
  "kernelspec": {
   "display_name": "Python 3 (ipykernel)",
   "language": "python",
   "name": "python3"
  },
  "language_info": {
   "codemirror_mode": {
    "name": "ipython",
    "version": 3
   },
   "file_extension": ".py",
   "mimetype": "text/x-python",
   "name": "python",
   "nbconvert_exporter": "python",
   "pygments_lexer": "ipython3",
   "version": "3.9.7"
  }
 },
 "nbformat": 4,
 "nbformat_minor": 2
}
